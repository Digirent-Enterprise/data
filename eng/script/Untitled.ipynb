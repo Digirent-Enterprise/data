{
 "cells": [
  {
   "cell_type": "code",
   "execution_count": 4,
   "id": "a1aa5717-c888-4d29-8580-95a818e97e14",
   "metadata": {
    "tags": []
   },
   "outputs": [],
   "source": [
    "import json\n",
    "\n",
    "def load_jsonl(file_path):\n",
    "    data = []\n",
    "    with open(file_path, 'r') as file:\n",
    "        for line in file:\n",
    "            json_obj = json.loads(line)\n",
    "            data.append(json_obj)\n",
    "    return data\n",
    "\n",
    "# Example usage\n",
    "file_path = 'US_qbank.jsonl'\n",
    "data = load_jsonl(file_path)\n",
    "\n",
    "\n"
   ]
  },
  {
   "cell_type": "code",
   "execution_count": 45,
   "id": "5f4c8ec1-19a3-4efa-9c14-c6af40d2b42b",
   "metadata": {
    "tags": []
   },
   "outputs": [],
   "source": [
    "import json\n",
    "\n",
    "jsonl_file_path = \"US_qbank.jsonl\"\n",
    "json_file_path = \"US_qbank.json\"\n",
    "\n",
    "json_data = []\n",
    "\n",
    "# Read the JSONL file line by line\n",
    "with open(jsonl_file_path, \"r\") as jsonl_file:\n",
    "    for line in jsonl_file:\n",
    "        # Parse each line as a JSON object\n",
    "        json_obj = json.loads(line)\n",
    "        json_data.append(json_obj)\n",
    "\n",
    "# Write the JSON data to a JSON file\n",
    "with open(json_file_path, \"w\") as json_file:\n",
    "    json.dump(json_data, json_file, indent=4)"
   ]
  },
  {
   "cell_type": "code",
   "execution_count": 33,
   "id": "906cb0f8-b3a7-41b8-849c-2fb401f71c6b",
   "metadata": {
    "tags": []
   },
   "outputs": [
    {
     "name": "stdout",
     "output_type": "stream",
     "text": [
      "Pin sleeve to the shirt\n",
      "{'question': 'A 4670-g (10-lb 5-oz) male newborn is delivered at term to a 26-year-old woman after prolonged labor. Apgar scores are 9 and 9 at 1 and 5 minutes. Examination in the delivery room shows swelling, tenderness, and crepitus over the left clavicle. There is decreased movement of the left upper extremity. Movement of the hands and wrists are normal. A grasping reflex is normal in both hands. An asymmetric Moro reflex is present. The remainder of the examination shows no abnormalities and an anteroposterior x-ray confirms the diagnosis. Which of the following is the most appropriate next step in management?', 'answer': 'D', 'options': {'A': 'Nerve conduction study', 'B': 'Surgical fixation', 'C': 'Physical therapy', 'D': 'Pin sleeve to the shirt', 'E': 'Splinting of the arm', 'F': 'MRI of the clavicle'}, 'other_elements': {'meta_info': 'step2'}}\n"
     ]
    }
   ],
   "source": [
    "print(processed_data[0][\"options\"][processed_data[0][\"answer\"]])\n",
    "print(processed_data[0])\n"
   ]
  },
  {
   "cell_type": "code",
   "execution_count": 52,
   "id": "84a0d52a-c766-4fae-9e42-840fd2a20bad",
   "metadata": {
    "tags": []
   },
   "outputs": [],
   "source": [
    "json_file_path = \"US_qbank2.json\"\n",
    "\n",
    "# Load JSON data from the file\n",
    "with open(json_file_path, \"r\") as json_file:\n",
    "    data = json.load(json_file)\n",
    "\n",
    "for item in data:\n",
    "    del item[\"options\"] \n",
    "\n",
    "output_file_path = 'US_qbank_final.json'\n",
    "with open(output_file_path, 'w') as file:\n",
    "    json.dump(data, file, indent=4)\n"
   ]
  },
  {
   "cell_type": "code",
   "execution_count": null,
   "id": "628595a2-a27d-4bb3-bdf2-0988215a0243",
   "metadata": {},
   "outputs": [],
   "source": []
  }
 ],
 "metadata": {
  "kernelspec": {
   "display_name": "Python 3 (ipykernel)",
   "language": "python",
   "name": "python3"
  },
  "language_info": {
   "codemirror_mode": {
    "name": "ipython",
    "version": 3
   },
   "file_extension": ".py",
   "mimetype": "text/x-python",
   "name": "python",
   "nbconvert_exporter": "python",
   "pygments_lexer": "ipython3",
   "version": "3.10.11"
  }
 },
 "nbformat": 4,
 "nbformat_minor": 5
}
